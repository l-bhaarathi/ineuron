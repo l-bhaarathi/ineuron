{
  "nbformat": 4,
  "nbformat_minor": 0,
  "metadata": {
    "colab": {
      "name": "Assignment_1.ipynb",
      "provenance": []
    },
    "kernelspec": {
      "name": "python3",
      "display_name": "Python 3"
    },
    "language_info": {
      "name": "python"
    }
  },
  "cells": [
    {
      "cell_type": "markdown",
      "source": [
        "**1**.In the below elements which of them are values or an expression? eg:- values can be\n",
        "integer or string and expressions will be mathematical operators.\n",
        "\n",
        "*\n",
        "&#39;hello&#39;\n",
        "-87.8\n",
        "-\n",
        "/\n",
        "+\n",
        "6"
      ],
      "metadata": {
        "id": "UpMm6NnStrMR"
      }
    },
    {
      "cell_type": "markdown",
      "source": [
        "**Answer**\n",
        "\n",
        "**values** : 'hello', -87.8, 6\n",
        "\n",
        "**expressions**  : *, -, /, +"
      ],
      "metadata": {
        "id": "kBm54wwJt4jM"
      }
    },
    {
      "cell_type": "markdown",
      "source": [
        "**2**.What is the difference between string and variable?"
      ],
      "metadata": {
        "id": "G8P_RgPAusk_"
      }
    },
    {
      "cell_type": "markdown",
      "source": [
        "**Answer**\n",
        "\n",
        "String is an value.\n",
        "\n",
        "Variable is an object holding different values."
      ],
      "metadata": {
        "id": "FNfaslklut7L"
      }
    },
    {
      "cell_type": "markdown",
      "source": [
        "**3**.Describe three different data types."
      ],
      "metadata": {
        "id": "F3F0uJhsvAHn"
      }
    },
    {
      "cell_type": "markdown",
      "source": [
        "**Answer**\n",
        "\n",
        "LIST  - Any data can be stored in the form of list. It is mutable. It supports index assignment operations.\n",
        "\n",
        "Tuple - Any data can be stored in the form of a tuple. It is immutable. It supports index assignement operations.\n",
        "\n",
        "Dictionary - Data is stored in the pattern of key value pairs. It is mutable. It doesnot supports index assignment operations."
      ],
      "metadata": {
        "id": "3lgBbmUOvBmm"
      }
    },
    {
      "cell_type": "markdown",
      "source": [
        "**4**.What is an expression made up of? What do all expressions do?\n"
      ],
      "metadata": {
        "id": "1tPwS78uxLKL"
      }
    },
    {
      "cell_type": "markdown",
      "source": [
        "**Answer**\n",
        "\n",
        "An expression is madeup of operators(ex: +, =, *, &, [, ], >) and operands(values).\n",
        "\n",
        "Expressions are used to perform a desirable funtions.\n",
        "\n",
        "Ex:\n",
        "\n",
        "a = 5, b=2\n",
        "\n",
        "c = a+b\n",
        "\n",
        "a>b."
      ],
      "metadata": {
        "id": "GphXtBihxLGA"
      }
    },
    {
      "cell_type": "markdown",
      "source": [
        "**5**.This assignment statements, like spam = 10. What is the difference between an\n",
        "expression and a statement?"
      ],
      "metadata": {
        "id": "8xMd4djAxLCY"
      }
    },
    {
      "cell_type": "markdown",
      "source": [
        "**Answer**\n",
        "\n",
        "Expression is a combination of values and operators intended to yield a new resultant value.\n",
        "\n",
        "Statements are functions intended to execute an expression."
      ],
      "metadata": {
        "id": "1kzOINQmxK9u"
      }
    },
    {
      "cell_type": "markdown",
      "source": [
        "**6**.After running the following code, what does the variable bacon contain?\n",
        "\n",
        "bacon = 22\n",
        "\n",
        "bacon + 1"
      ],
      "metadata": {
        "id": "Lp9cRYJGxK6A"
      }
    },
    {
      "cell_type": "markdown",
      "source": [
        "**Answer**\n",
        "\n",
        "bacon contains value 22."
      ],
      "metadata": {
        "id": "QAS4YOZbxKzP"
      }
    },
    {
      "cell_type": "markdown",
      "source": [
        "**7**.What should the values of the following two terms be?\n",
        "\n",
        "&#39;spam&#39; + &#39;spamspam&#39;\n",
        "\n",
        "&#39;spam&#39; * 3"
      ],
      "metadata": {
        "id": "JkZD2_raxKvP"
      }
    },
    {
      "cell_type": "markdown",
      "source": [
        "**Answer**\n",
        "\n",
        "'spam' + 'spamspam' gives output as 'spamspamspam'.\n",
        "\n",
        "'spam' * 3 gives output as 'spamspamspam'."
      ],
      "metadata": {
        "id": "CQC_E_JN3xpr"
      }
    },
    {
      "cell_type": "markdown",
      "source": [
        "**8**.Why is eggs a valid variable name while 100 is invalid?"
      ],
      "metadata": {
        "id": "yMkv4lxkxKri"
      }
    },
    {
      "cell_type": "markdown",
      "source": [
        "**Answer**\n",
        "\n",
        "Python allows creating string type variable names only."
      ],
      "metadata": {
        "id": "rp0Vf-yGxKiD"
      }
    },
    {
      "cell_type": "markdown",
      "source": [
        "**9**.What three functions can be used to get the integer, floating-point number, or string\n",
        "version of a value?"
      ],
      "metadata": {
        "id": "B7pHkAr2xKTu"
      }
    },
    {
      "cell_type": "markdown",
      "source": [
        "**Answer**\n",
        "\n",
        "int(variable) returns integer.\n",
        "\n",
        "float(variable) returns floating point number.\n",
        "\n",
        "str(variable) returns string version of a value."
      ],
      "metadata": {
        "id": "VXdXFVCT2Jw6"
      }
    },
    {
      "cell_type": "markdown",
      "source": [
        "**10**.Why does this expression cause an error? How can you fix it?\n",
        "\n",
        "&#39;I have eaten &#39; + 99 + &#39; burritos.&#39;"
      ],
      "metadata": {
        "id": "Km35JIgL2iks"
      }
    },
    {
      "cell_type": "markdown",
      "source": [
        "**Answer**\n",
        "\n",
        "The following expression causing error because we are trying to concatenate a string value with an integer value, which is not allowed in python.\n",
        "\n",
        "Instead we shall perform the following conversion :\n",
        "\n",
        "'I have eaten'+ str(99) + 'burritos'"
      ],
      "metadata": {
        "id": "-l46ucN-26NN"
      }
    }
  ]
}
