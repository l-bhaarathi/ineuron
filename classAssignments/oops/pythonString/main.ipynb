{
 "cells": [
  {
   "cell_type": "code",
   "execution_count": 1,
   "id": "288f6fec",
   "metadata": {},
   "outputs": [
    {
     "name": "stdout",
     "output_type": "stream",
     "text": [
      "Welcome to String Functions....!\n",
      "tHis iS mY fiRst pROgRammIng iN pYthOn...!\n"
     ]
    }
   ],
   "source": [
    "import logging\n",
    "logging.basicConfig(filename=\"main.log\",level=logging.INFO,format=\"%(levelname)s %(asctime)s %(message)s\")\n",
    "logging.info(\"Logged into main file.\")\n",
    "print(\"Welcome to String Functions....!\")\n",
    "import stringFunctions\n",
    "\"\"\" \n",
    "    string_extract - extracts string from 1-300 with the skip of 3.\n",
    "    string_reverse - reverse the given string data.\n",
    "    string_upper   - converts the whole string into upper case.\n",
    "    string_lower   - converts the whole string into lower case.\n",
    "    string_caps    - capitalizes the given string.\n",
    "    string_strip   - remove white spaces from both adjacent sides of the given string.\n",
    "    string_lstrip  - remove white-spaces from left side of the given string.\n",
    "    string_rstrip  - remove white-spaces from right side of the given string.\n",
    "\"\"\"\n",
    "fun=stringFunctions.String()"
   ]
  },
  {
   "cell_type": "code",
   "execution_count": 2,
   "id": "c8298545",
   "metadata": {},
   "outputs": [],
   "source": [
    "#tHis iS mY fiRst pROgRammIng iN pYthOn...!"
   ]
  },
  {
   "cell_type": "code",
   "execution_count": 3,
   "id": "bba578f6",
   "metadata": {},
   "outputs": [
    {
     "data": {
      "text/plain": [
       "'!...nOhtYp Ni gnImmaRgORp tsRif Ym Si siHt'"
      ]
     },
     "execution_count": 3,
     "metadata": {},
     "output_type": "execute_result"
    }
   ],
   "source": [
    "fun.string_reverse()"
   ]
  },
  {
   "cell_type": "code",
   "execution_count": 4,
   "id": "c873fc12",
   "metadata": {},
   "outputs": [
    {
     "data": {
      "text/plain": [
       "['THIS', 'IS', 'MY', 'FIRST', 'PROGRAMMING', 'IN', 'PYTHON...!']"
      ]
     },
     "execution_count": 4,
     "metadata": {},
     "output_type": "execute_result"
    }
   ],
   "source": [
    "fun.string_upper()"
   ]
  },
  {
   "cell_type": "code",
   "execution_count": 5,
   "id": "0b0de1d1",
   "metadata": {},
   "outputs": [
    {
     "data": {
      "text/plain": [
       "'This is my first programming in python...!'"
      ]
     },
     "execution_count": 5,
     "metadata": {},
     "output_type": "execute_result"
    }
   ],
   "source": [
    "fun.string_caps()"
   ]
  },
  {
   "cell_type": "code",
   "execution_count": 6,
   "id": "8497e4c8",
   "metadata": {},
   "outputs": [
    {
     "data": {
      "text/plain": [
       "'this is my first programming in python...!'"
      ]
     },
     "execution_count": 6,
     "metadata": {},
     "output_type": "execute_result"
    }
   ],
   "source": [
    "fun.string_lower()"
   ]
  },
  {
   "cell_type": "code",
   "execution_count": 7,
   "id": "9fb779db",
   "metadata": {},
   "outputs": [
    {
     "name": "stdout",
     "output_type": "stream",
     "text": [
      "Enter data to  left-strip :             pythOn\n"
     ]
    },
    {
     "data": {
      "text/plain": [
       "'pythOn'"
      ]
     },
     "execution_count": 7,
     "metadata": {},
     "output_type": "execute_result"
    }
   ],
   "source": [
    "fun.string_lstrip()"
   ]
  },
  {
   "cell_type": "code",
   "execution_count": 8,
   "id": "fc6cd659",
   "metadata": {},
   "outputs": [
    {
     "name": "stdout",
     "output_type": "stream",
     "text": [
      "Enter data to right-strip : pythOn                 \n"
     ]
    },
    {
     "data": {
      "text/plain": [
       "'pythOn'"
      ]
     },
     "execution_count": 8,
     "metadata": {},
     "output_type": "execute_result"
    }
   ],
   "source": [
    "fun.string_rstrip()"
   ]
  },
  {
   "cell_type": "code",
   "execution_count": 9,
   "id": "f39d2201",
   "metadata": {},
   "outputs": [
    {
     "name": "stdout",
     "output_type": "stream",
     "text": [
      "Enter data to strip :               pythOn                   \n"
     ]
    },
    {
     "data": {
      "text/plain": [
       "'pythOn'"
      ]
     },
     "execution_count": 9,
     "metadata": {},
     "output_type": "execute_result"
    }
   ],
   "source": [
    "fun.string_strip()"
   ]
  },
  {
   "cell_type": "code",
   "execution_count": 10,
   "id": "7298dd56",
   "metadata": {},
   "outputs": [
    {
     "data": {
      "text/plain": [
       "'This is my first programming in python...!'"
      ]
     },
     "execution_count": 10,
     "metadata": {},
     "output_type": "execute_result"
    }
   ],
   "source": [
    "fun.string_caps()"
   ]
  },
  {
   "cell_type": "code",
   "execution_count": null,
   "id": "993fbb2a",
   "metadata": {},
   "outputs": [],
   "source": []
  }
 ],
 "metadata": {
  "kernelspec": {
   "display_name": "Python 3 (ipykernel)",
   "language": "python",
   "name": "python3"
  },
  "language_info": {
   "codemirror_mode": {
    "name": "ipython",
    "version": 3
   },
   "file_extension": ".py",
   "mimetype": "text/x-python",
   "name": "python",
   "nbconvert_exporter": "python",
   "pygments_lexer": "ipython3",
   "version": "3.9.10"
  }
 },
 "nbformat": 4,
 "nbformat_minor": 5
}
